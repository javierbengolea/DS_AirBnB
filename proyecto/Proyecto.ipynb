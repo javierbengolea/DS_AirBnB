{
 "cells": [
  {
   "cell_type": "markdown",
   "metadata": {},
   "source": [
    "# Proyecto AirBNB"
   ]
  },
  {
   "cell_type": "markdown",
   "metadata": {},
   "source": [
    "### Estudio del Contexto\n",
    "\n",
    "#### ¿Qué es AirBNB?\n",
    "\n",
    "Antes de hacer la exploración y el análisi de los datos, nos ponemos en contexto.\n",
    "\n",
    "\"Airbnb es una compañía que ofrece una plataforma digital dedicada a la oferta de alojamientos a particulares y turísticos (alquiler vacacional) mediante la cual los anfitriones pueden publicitar y contratar el arriendo de sus propiedades con sus huéspedes; anfitriones y huéspedes pueden valorarse mutuamente, como referencia para futuros usuarios.\" Wikipedia [es.wikipedia.org/wiki/Airbnb](https://es.wikipedia.org/wiki/Airbnb)\n",
    "\n",
    "De esta manera sabemos qué vamos a encontrar, información de alojamientos y referencias."
   ]
  },
  {
   "cell_type": "markdown",
   "metadata": {},
   "source": [
    "#### Exploramos el directorio Datasets\n",
    "\n",
    "```` javascript\n",
    "ls -s datasets\n",
    "total 627988\n",
    " 432868 calendar.csv\n",
    " 86000 listings.csv\n",
    " 109120 reviews.csv\n",
    "````\n",
    "\n",
    "Vemos que son Archivos tipo csv de tamaño medio a grande, por lo tanto es lo primero que vamos a tener en cuenta.\n",
    "\n",
    "Pasamos a hacer el EDA"
   ]
  },
  {
   "cell_type": "markdown",
   "metadata": {},
   "source": [
    "##### Analizamos el archivo ````calendar.csv````\n",
    "\n",
    "````\n",
    "listing_id,date,available,price,adjusted_price,minimum_nights,maximum_nights\n",
    "50778,2020-04-26,f,\"$2,655.00\",\"$2,655.00\",5,1125\n",
    "133654,2020-04-27,t,\"$1,150.00\",\"$1,150.00\",4,1125\n",
    "133654,2020-04-28,t,\"$1,150.00\",\"$1,150.00\",4,1125\n",
    "133654,2020-04-29,t,\"$1,150.00\",\"$1,150.00\",4,1125\n",
    "133654,2020-04-30,t,\"$1,150.00\",\"$1,150.00\",4,1125\n",
    "133654,2020-05-01,t,\"$1,150.00\",\"$1,150.00\",4,1125\n",
    "133654,2020-05-02,t,\"$1,150.00\",\"$1,150.00\",4,1125\n",
    "````"
   ]
  },
  {
   "cell_type": "markdown",
   "metadata": {},
   "source": [
    "A simple vista, parece que es una tabla de hechos, desde el punto de vista de datawarehouse, con los siguientes campos\n",
    "\n",
    "* **listing_id**: Es el id de la tabla  que detalla los alojamientos, el lugar físico\n",
    "* **date**: fecha\n",
    "* **available**: **t** es True, **f** is false\n",
    "* **price**: precio por noche\n",
    "* **adjusted_price**: \n",
    "* **minimum_nights**: cantidad minima de noches\n",
    "* **maximum_nights**: cantidad maxima de noches\n",
    "\n",
    "Después de hacer un insight en el archivo listings, verificamos que calendat asocia un alojamiento con una fecha, disponibilidad y precio, siendo los dos últimos campos, redundantes\n"
   ]
  },
  {
   "cell_type": "markdown",
   "metadata": {},
   "source": [
    "Procedemos a realizar la limpieza"
   ]
  },
  {
   "cell_type": "code",
   "execution_count": 1,
   "metadata": {},
   "outputs": [],
   "source": [
    "import pandas as pd\n",
    "import numpy as np"
   ]
  },
  {
   "cell_type": "code",
   "execution_count": null,
   "metadata": {},
   "outputs": [],
   "source": [
    "calendar = pd.read_csv('../datasets/calendar.csv', sep=',', usecols=['listing_id', 'date', 'available', 'price', 'adjusted_price'])\n",
    "\n",
    "calendar.listing_id = calendar.listing_id.astype('uint16').copy()\n",
    "\n",
    "calendar.available = calendar.available.apply(lambda x: False if x == 'f' else True).copy()\n",
    "\n",
    "calendar.date = pd.to_datetime(calendar.date).copy()\n",
    "calendar.price = calendar.price.apply(lambda x: x.replace(\"\\\"\", \"\").replace(\"$\", \"\").replace(\",\", \"\")).copy()\n",
    "calendar.adjusted_price = calendar.adjusted_price.apply(lambda x: x.replace(\"\\\"\", \"\").replace(\"$\", \"\").replace(\",\", \"\")).copy()\n",
    "calendar.price = calendar.price.astype(\"float32\").copy()\n",
    "calendar.adjusted_price = calendar.adjusted_price.astype(\"float32\").copy()\n"
   ]
  },
  {
   "cell_type": "code",
   "execution_count": 3,
   "metadata": {},
   "outputs": [],
   "source": [
    "import matplotlib.pyplot as plt\n",
    "import seaborn as sns"
   ]
  },
  {
   "cell_type": "code",
   "execution_count": 38,
   "metadata": {},
   "outputs": [],
   "source": [
    "import pymysql\n",
    "import pandas as pd\n",
    "import numpy as np\n",
    "\n",
    "HOST='localhost'\n",
    "SCHEMA='airbnb'\n",
    "USER='root'\n",
    "PORT=3306\n",
    "# PASS='*****'\n",
    "\n",
    "\n",
    "# calendar_limpio = pd.read_csv('../datasets/calendar_limpio.csv', sep=\"\\t\")\n",
    "\n",
    "\n",
    "from sqlalchemy import create_engine\n",
    "# cnx = create_engine('mysql+pymysql://[user]:[pass]@[host]:[port]/[schema]', echo=False)\n",
    "\n",
    "# cnx = create_engine(f'mysql+pymysql://${USER}:${PASS}@{HOST}:{PORT}/{SCHEMA}', echo=False)\n",
    "cnx = create_engine(f'mysql+pymysql://root:S{PASS}?@{HOST}:{PORT}/{SCHEMA}', echo=False)\n",
    "\n",
    "# calendar_limpio.to_sql(name=\"calendar\", con=cnx)"
   ]
  },
  {
   "cell_type": "markdown",
   "metadata": {},
   "source": [
    "## Archivo **listings.csv**\n",
    "\n",
    "Procederemos a leer via DataFrame el archivo **listings.csv**"
   ]
  },
  {
   "cell_type": "code",
   "execution_count": null,
   "metadata": {},
   "outputs": [],
   "source": [
    "listings = pd.read_csv('../datasets/listings.csv', low_memory=False)"
   ]
  },
  {
   "cell_type": "code",
   "execution_count": 6,
   "metadata": {},
   "outputs": [
    {
     "name": "stdout",
     "output_type": "stream",
     "text": [
      "<class 'pandas.core.frame.DataFrame'>\n",
      "RangeIndex: 23729 entries, 0 to 23728\n",
      "Columns: 106 entries, id to reviews_per_month\n",
      "dtypes: float64(23), int64(21), object(62)\n",
      "memory usage: 19.2+ MB\n"
     ]
    }
   ],
   "source": [
    "listings.head()\n",
    "listings.info()"
   ]
  },
  {
   "cell_type": "markdown",
   "metadata": {},
   "source": [
    "Vemos que contiene 106 columnas!!!\n",
    "\n",
    "````[id, ...., calculated_host_listings_count_shared_rooms, reviews_per_month]````"
   ]
  },
  {
   "cell_type": "code",
   "execution_count": null,
   "metadata": {},
   "outputs": [],
   "source": [
    "colunmas_listings = listings.columns\n",
    "\n",
    "for i, c in enumerate(colunmas_listings):\n",
    "    print(c, end=\", \")"
   ]
  },
  {
   "cell_type": "markdown",
   "metadata": {},
   "source": [
    "Luego de un análisis se puede ver como tablas relacionales condensadas en una sola, después de un análisis de las columnas llegamos a la conclusión que podemos extraer al menos 7 tablas según la naturaleza de las columnas.\n",
    "\n",
    "Separamos por ejemplo, la información de los anfitriones en una tabla llamada **hosts** y la almacenamos en **MySQL**."
   ]
  },
  {
   "cell_type": "code",
   "execution_count": 39,
   "metadata": {},
   "outputs": [
    {
     "data": {
      "text/plain": [
       "15536"
      ]
     },
     "execution_count": 39,
     "metadata": {},
     "output_type": "execute_result"
    }
   ],
   "source": [
    "columnas_host = ['host_id', 'host_url', 'host_name', 'host_since', 'host_location',\n",
    "       'host_about', 'host_response_time', 'host_response_rate',\n",
    "       'host_acceptance_rate', 'host_is_superhost', 'host_thumbnail_url',\n",
    "       'host_picture_url', 'host_neighbourhood', 'host_listings_count',\n",
    "       'host_total_listings_count', 'host_verifications',\n",
    "       'host_has_profile_pic', 'host_identity_verified']\n",
    "\n",
    "host = listings[columnas_host]\n",
    "host = host.drop_duplicates()\n",
    "\n",
    "host.to_sql(name=\"hosts\", con=cnx, if_exists='replace')\n",
    "# host.to_csv('../datasets/hosts.csv', encoding='utf-8', sep=';')\n"
   ]
  },
  {
   "cell_type": "markdown",
   "metadata": {},
   "source": [
    "Actualizamos la tabla quitando la info de los anfitriones en el dataframe de listings"
   ]
  },
  {
   "cell_type": "code",
   "execution_count": 47,
   "metadata": {},
   "outputs": [],
   "source": [
    "listings_filtered = listings.drop(columnas_host[1:], axis=1)"
   ]
  },
  {
   "cell_type": "markdown",
   "metadata": {},
   "source": [
    "Usando este mismo formato continuamos con las siguientes tablas que podemos generar"
   ]
  },
  {
   "cell_type": "code",
   "execution_count": 41,
   "metadata": {},
   "outputs": [
    {
     "data": {
      "text/plain": [
       "23729"
      ]
     },
     "execution_count": 41,
     "metadata": {},
     "output_type": "execute_result"
    }
   ],
   "source": [
    "columnas_info1 = ['id', 'listing_url', 'scrape_id', 'last_scraped', 'name', 'summary',\n",
    "       'space', 'description', 'experiences_offered', 'neighborhood_overview',\n",
    "       'notes', 'transit', 'access', 'interaction', 'house_rules',\n",
    "       'thumbnail_url', 'medium_url', 'picture_url', 'xl_picture_url']\n",
    "\n",
    "info1 = listings[columnas_info1]\n",
    "\n",
    "info1 = info1.drop_duplicates()\n",
    "\n",
    "info1.to_sql(name=\"info1\", con=cnx, if_exists=\"replace\")\n"
   ]
  },
  {
   "cell_type": "code",
   "execution_count": null,
   "metadata": {},
   "outputs": [],
   "source": [
    "listings_filtered = listings_filtered.drop(columnas_info1[1:], axis=1)\n",
    "\n",
    "listings_filtered"
   ]
  },
  {
   "cell_type": "code",
   "execution_count": 49,
   "metadata": {},
   "outputs": [
    {
     "data": {
      "text/plain": [
       "23729"
      ]
     },
     "execution_count": 49,
     "metadata": {},
     "output_type": "execute_result"
    }
   ],
   "source": [
    "columnas_info2 = [\"id\",\"street\", \"neighbourhood_cleansed\", \"neighbourhood_group_cleansed\",\"require_guest_profile_picture\",\"require_guest_phone_verification\",\n",
    "           \"calculated_host_listings_count\", \"calculated_host_listings_count_entire_homes\", \"calculated_host_listings_count_shared_rooms\",\n",
    "           \"calculated_host_listings_count_private_rooms\"]\n",
    "\n",
    "# info2 = pd.read_csv('../datasets/listings.csv', usecols=columnas_info2)\n",
    "info2 = listings[columnas_info2]\n",
    "\n",
    "info2 = info2.drop_duplicates()\n",
    "\n",
    "info2.to_sql(name='info2', con = cnx, if_exists=\"replace\")"
   ]
  },
  {
   "cell_type": "code",
   "execution_count": null,
   "metadata": {},
   "outputs": [],
   "source": [
    "listings_filtered = listings_filtered.drop(columnas_info2[1:], axis=1)\n",
    "\n",
    "listings_filtered"
   ]
  },
  {
   "cell_type": "code",
   "execution_count": 53,
   "metadata": {},
   "outputs": [
    {
     "data": {
      "text/plain": [
       "23729"
      ]
     },
     "execution_count": 53,
     "metadata": {},
     "output_type": "execute_result"
    }
   ],
   "source": [
    "columnas_location = ['id', 'neighbourhood', 'city', 'state',\n",
    "       'zipcode', 'market', 'smart_location', 'country_code', 'country',\n",
    "       'latitude', 'longitude', 'is_location_exact']\n",
    "\n",
    "location = listings[columnas_location]\n",
    "location.to_sql(name='location', con = cnx, if_exists=\"replace\")"
   ]
  },
  {
   "cell_type": "code",
   "execution_count": null,
   "metadata": {},
   "outputs": [],
   "source": [
    "listings_filtered = listings_filtered.drop(columnas_info2[1:], axis=1)\n",
    "\n",
    "listings_filtered"
   ]
  },
  {
   "cell_type": "code",
   "execution_count": 55,
   "metadata": {},
   "outputs": [
    {
     "data": {
      "text/plain": [
       "23729"
      ]
     },
     "execution_count": 55,
     "metadata": {},
     "output_type": "execute_result"
    }
   ],
   "source": [
    "columnas_propiedad = ['id','property_type', 'room_type', 'accommodates', 'bathrooms', 'bedrooms',\n",
    "       'beds', 'bed_type', 'amenities', 'square_feet']\n",
    "\n",
    "datos_propiedad = listings[columnas_propiedad]\n",
    "\n",
    "datos_propiedad.drop_duplicates()\n",
    "\n",
    "datos_propiedad.to_sql(name='datos_propiedad', con=cnx, if_exists='replace')"
   ]
  },
  {
   "cell_type": "code",
   "execution_count": null,
   "metadata": {},
   "outputs": [],
   "source": [
    "listings_filtered = listings_filtered.drop(columnas_propiedad[1:], axis=1)\n",
    "\n",
    "listings_filtered"
   ]
  },
  {
   "cell_type": "code",
   "execution_count": 57,
   "metadata": {},
   "outputs": [
    {
     "data": {
      "text/plain": [
       "23729"
      ]
     },
     "execution_count": 57,
     "metadata": {},
     "output_type": "execute_result"
    }
   ],
   "source": [
    "columnas_precio = ['id','price', 'weekly_price', 'monthly_price', 'security_deposit',\n",
    "       'cleaning_fee', 'guests_included', 'extra_people']\n",
    "\n",
    "precios = listings[columnas_precio]\n",
    "\n",
    "precios = precios.drop_duplicates()\n",
    "\n",
    "precios.to_sql(name='precios', con=cnx, if_exists='replace')\n"
   ]
  },
  {
   "cell_type": "code",
   "execution_count": null,
   "metadata": {},
   "outputs": [],
   "source": [
    "listings_filtered = listings_filtered.drop(columnas_precio[1:], axis=1)\n",
    "\n",
    "listings_filtered"
   ]
  },
  {
   "cell_type": "code",
   "execution_count": 59,
   "metadata": {},
   "outputs": [
    {
     "data": {
      "text/plain": [
       "23729"
      ]
     },
     "execution_count": 59,
     "metadata": {},
     "output_type": "execute_result"
    }
   ],
   "source": [
    "columnas_disponibilidad = ['id', 'minimum_nights', 'maximum_nights', 'minimum_minimum_nights',\n",
    "       'maximum_minimum_nights', 'minimum_maximum_nights',\n",
    "       'maximum_maximum_nights', 'minimum_nights_avg_ntm',\n",
    "       'maximum_nights_avg_ntm', 'calendar_updated', 'has_availability',\n",
    "       'availability_30', 'availability_60', 'availability_90',\n",
    "       'availability_365', 'calendar_last_scraped']\n",
    "\n",
    "disponibilidad = listings[columnas_disponibilidad]\n",
    "\n",
    "disponibilidad.to_sql(name=\"disponibilidad\", con=cnx, if_exists='replace')\n",
    "\n"
   ]
  },
  {
   "cell_type": "code",
   "execution_count": null,
   "metadata": {},
   "outputs": [],
   "source": [
    "listings_filtered = listings_filtered.drop(columnas_disponibilidad[1:], axis=1)\n",
    "\n",
    "listings_filtered"
   ]
  },
  {
   "cell_type": "code",
   "execution_count": 61,
   "metadata": {},
   "outputs": [
    {
     "data": {
      "text/plain": [
       "23729"
      ]
     },
     "execution_count": 61,
     "metadata": {},
     "output_type": "execute_result"
    }
   ],
   "source": [
    "columnas_review = ['id','number_of_reviews', 'number_of_reviews_ltm', 'first_review',\n",
    "       'last_review', 'review_scores_rating', 'review_scores_accuracy',\n",
    "       'review_scores_cleanliness', 'review_scores_checkin',\n",
    "       'review_scores_communication', 'review_scores_location',\n",
    "       'review_scores_value', 'reviews_per_month']\n",
    "\n",
    "reviews_info = listings[columnas_review]\n",
    "\n",
    "reviews_info.to_sql(name='reviews_info', con=cnx, if_exists='replace')"
   ]
  },
  {
   "cell_type": "code",
   "execution_count": null,
   "metadata": {},
   "outputs": [],
   "source": [
    "listings_filtered = listings_filtered.drop(columnas_review[1:], axis=1)\n",
    "\n",
    "listings_filtered"
   ]
  },
  {
   "cell_type": "code",
   "execution_count": null,
   "metadata": {},
   "outputs": [],
   "source": [
    "# Assuming listings is your DataFrame\n",
    "\n",
    "\n",
    "# to_drop = [\"street\", \"neighbourhood_cleansed\", \"neighbourhood_group_cleansed\",\"require_guest_profile_picture\",\"require_guest_phone_verification\",\n",
    "#            \"calculated_host_listings_count\", \"calculated_host_listings_count_entire_homes\", \"calculated_host_listings_count_shared_rooms\",\n",
    "#            \"calculated_host_listings_count_private_rooms\"]\n",
    "\n",
    "# to_drop2 = ['neighbourhood', 'city', 'state',\n",
    "#        'zipcode', 'market', 'smart_location', 'country_code', 'country',\n",
    "#        'latitude', 'longitude', 'is_location_exact']\n",
    "\n",
    "# to_drop0 = ['host_url', 'host_name', 'host_since', 'host_location', 'host_about',\n",
    "#        'host_response_time', 'host_response_rate', 'host_acceptance_rate',\n",
    "#        'host_is_superhost', 'host_thumbnail_url', 'host_picture_url',\n",
    "#        'host_neighbourhood', 'host_listings_count',\n",
    "#        'host_total_listings_count', 'host_verifications',\n",
    "#        'host_has_profile_pic', 'host_identity_verified']\n",
    "\n",
    "# to_drop3 = ['scrape_id', 'last_scraped', 'summary', 'space', 'description',\n",
    "#        'experiences_offered', 'neighborhood_overview', 'notes', 'transit',\n",
    "#        'access', 'interaction', 'house_rules', 'thumbnail_url', 'medium_url',\n",
    "#        'picture_url', 'xl_picture_url']\n",
    "\n",
    "# to_drop4 = ['property_type', 'room_type', 'accommodates', 'bathrooms', 'bedrooms',\n",
    "#        'beds', 'bed_type', 'amenities', 'square_feet']\n",
    "\n",
    "# to_drop5 =['price', 'weekly_price', 'monthly_price', 'security_deposit',\n",
    "#        'cleaning_fee', 'guests_included', 'extra_people']\n",
    "\n",
    "# to_drop6 = ['minimum_nights', 'maximum_nights', 'minimum_minimum_nights',\n",
    "#        'maximum_minimum_nights', 'minimum_maximum_nights',\n",
    "#        'maximum_maximum_nights', 'minimum_nights_avg_ntm',\n",
    "#        'maximum_nights_avg_ntm', 'calendar_updated', 'has_availability',\n",
    "#        'availability_30', 'availability_60', 'availability_90',\n",
    "#        'availability_365', 'calendar_last_scraped']\n",
    "\n",
    "# to_drop7 = ['number_of_reviews', 'number_of_reviews_ltm', 'first_review',\n",
    "#        'last_review', 'review_scores_rating', 'review_scores_accuracy',\n",
    "#        'review_scores_cleanliness', 'review_scores_checkin',\n",
    "#        'review_scores_communication', 'review_scores_location',\n",
    "#        'review_scores_value', 'reviews_per_month']\n",
    "\n",
    "# listings_filtered = listings.drop(to_drop0, axis=1)\n",
    "# listings_filtered = listings_filtered.drop(to_drop, axis=1)\n",
    "# listings_filtered = listings_filtered.drop(to_drop2, axis=1)\n",
    "# listings_filtered = listings_filtered.drop(to_drop3, axis=1)\n",
    "# listings_filtered = listings_filtered.drop(to_drop4, axis=1)\n",
    "# listings_filtered = listings_filtered.drop(to_drop5, axis=1)\n",
    "# listings_filtered = listings_filtered.drop(to_drop6, axis=1)\n",
    "# listings_filtered = listings_filtered.drop(to_drop7, axis=1)\n",
    "\n",
    "\n",
    "\n",
    "# listings_filtered.info()"
   ]
  },
  {
   "cell_type": "markdown",
   "metadata": {},
   "source": [
    "Finalmente Guardamos la tabla listings"
   ]
  },
  {
   "cell_type": "code",
   "execution_count": 63,
   "metadata": {},
   "outputs": [
    {
     "data": {
      "text/plain": [
       "23729"
      ]
     },
     "execution_count": 63,
     "metadata": {},
     "output_type": "execute_result"
    }
   ],
   "source": [
    "listings_filtered.to_sql(name=\"listings\", con=cnx, if_exists='replace')"
   ]
  },
  {
   "cell_type": "code",
   "execution_count": 64,
   "metadata": {},
   "outputs": [
    {
     "name": "stdout",
     "output_type": "stream",
     "text": [
      "<class 'pandas.core.frame.DataFrame'>\n",
      "RangeIndex: 387099 entries, 0 to 387098\n",
      "Data columns (total 6 columns):\n",
      " #   Column         Non-Null Count   Dtype \n",
      "---  ------         --------------   ----- \n",
      " 0   listing_id     387099 non-null  int64 \n",
      " 1   id             387099 non-null  int64 \n",
      " 2   date           387099 non-null  object\n",
      " 3   reviewer_id    387099 non-null  int64 \n",
      " 4   reviewer_name  387099 non-null  object\n",
      " 5   comments       386923 non-null  object\n",
      "dtypes: int64(3), object(3)\n",
      "memory usage: 17.7+ MB\n"
     ]
    }
   ],
   "source": [
    "\n",
    "reviews = pd.read_csv('../datasets/reviews.csv')\n",
    "\n",
    "reviews.info()"
   ]
  },
  {
   "cell_type": "code",
   "execution_count": 7,
   "metadata": {},
   "outputs": [],
   "source": [
    "reviews.to_parquet('../datasets/reviews.parquet')"
   ]
  },
  {
   "cell_type": "code",
   "execution_count": 3,
   "metadata": {},
   "outputs": [
    {
     "name": "stdout",
     "output_type": "stream",
     "text": [
      "Collecting pyarrow\n",
      "  Downloading pyarrow-15.0.0-cp312-cp312-win_amd64.whl.metadata (3.1 kB)\n",
      "Requirement already satisfied: numpy<2,>=1.16.6 in g:\\cursos_2023\\henry\\data07\\m5\\práctica\\airbnb\\.venv\\lib\\site-packages (from pyarrow) (1.26.4)\n",
      "Downloading pyarrow-15.0.0-cp312-cp312-win_amd64.whl (25.3 MB)\n",
      "   ---------------------------------------- 0.0/25.3 MB ? eta -:--:--\n",
      "   ---------------------------------------- 0.0/25.3 MB ? eta -:--:--\n",
      "   ---------------------------------------- 0.0/25.3 MB 640.0 kB/s eta 0:00:40\n",
      "   ---------------------------------------- 0.1/25.3 MB 1.1 MB/s eta 0:00:24\n",
      "   ---------------------------------------- 0.2/25.3 MB 913.1 kB/s eta 0:00:28\n",
      "   ---------------------------------------- 0.2/25.3 MB 1.1 MB/s eta 0:00:23\n",
      "   ---------------------------------------- 0.3/25.3 MB 1.1 MB/s eta 0:00:23\n",
      "    --------------------------------------- 0.3/25.3 MB 1.2 MB/s eta 0:00:22\n",
      "    --------------------------------------- 0.4/25.3 MB 1.1 MB/s eta 0:00:22\n",
      "    --------------------------------------- 0.5/25.3 MB 1.1 MB/s eta 0:00:23\n",
      "    --------------------------------------- 0.5/25.3 MB 1.1 MB/s eta 0:00:23\n",
      "    --------------------------------------- 0.5/25.3 MB 1.1 MB/s eta 0:00:22\n",
      "    --------------------------------------- 0.6/25.3 MB 1.1 MB/s eta 0:00:23\n",
      "    --------------------------------------- 0.6/25.3 MB 1.1 MB/s eta 0:00:23\n",
      "   - -------------------------------------- 0.7/25.3 MB 1.1 MB/s eta 0:00:23\n",
      "   - -------------------------------------- 0.7/25.3 MB 1.1 MB/s eta 0:00:22\n",
      "   - -------------------------------------- 0.8/25.3 MB 1.2 MB/s eta 0:00:21\n",
      "   - -------------------------------------- 0.9/25.3 MB 1.2 MB/s eta 0:00:21\n",
      "   - -------------------------------------- 1.0/25.3 MB 1.2 MB/s eta 0:00:20\n",
      "   - -------------------------------------- 1.1/25.3 MB 1.3 MB/s eta 0:00:19\n",
      "   - -------------------------------------- 1.2/25.3 MB 1.3 MB/s eta 0:00:19\n",
      "   - -------------------------------------- 1.2/25.3 MB 1.3 MB/s eta 0:00:19\n",
      "   -- ------------------------------------- 1.3/25.3 MB 1.3 MB/s eta 0:00:18\n",
      "   -- ------------------------------------- 1.4/25.3 MB 1.4 MB/s eta 0:00:18\n",
      "   -- ------------------------------------- 1.5/25.3 MB 1.4 MB/s eta 0:00:18\n",
      "   -- ------------------------------------- 1.6/25.3 MB 1.4 MB/s eta 0:00:17\n",
      "   -- ------------------------------------- 1.7/25.3 MB 1.5 MB/s eta 0:00:17\n",
      "   -- ------------------------------------- 1.8/25.3 MB 1.5 MB/s eta 0:00:16\n",
      "   --- ------------------------------------ 1.9/25.3 MB 1.5 MB/s eta 0:00:16\n",
      "   --- ------------------------------------ 2.0/25.3 MB 1.5 MB/s eta 0:00:16\n",
      "   --- ------------------------------------ 2.1/25.3 MB 1.6 MB/s eta 0:00:15\n",
      "   --- ------------------------------------ 2.2/25.3 MB 1.6 MB/s eta 0:00:15\n",
      "   --- ------------------------------------ 2.3/25.3 MB 1.6 MB/s eta 0:00:15\n",
      "   --- ------------------------------------ 2.4/25.3 MB 1.6 MB/s eta 0:00:15\n",
      "   ---- ----------------------------------- 2.6/25.3 MB 1.7 MB/s eta 0:00:14\n",
      "   ---- ----------------------------------- 2.7/25.3 MB 1.7 MB/s eta 0:00:14\n",
      "   ---- ----------------------------------- 2.8/25.3 MB 1.7 MB/s eta 0:00:14\n",
      "   ---- ----------------------------------- 3.0/25.3 MB 1.7 MB/s eta 0:00:13\n",
      "   ---- ----------------------------------- 3.1/25.3 MB 1.8 MB/s eta 0:00:13\n",
      "   ----- ---------------------------------- 3.2/25.3 MB 1.8 MB/s eta 0:00:13\n",
      "   ----- ---------------------------------- 3.4/25.3 MB 1.8 MB/s eta 0:00:12\n",
      "   ----- ---------------------------------- 3.5/25.3 MB 1.9 MB/s eta 0:00:12\n",
      "   ----- ---------------------------------- 3.7/25.3 MB 1.9 MB/s eta 0:00:12\n",
      "   ------ --------------------------------- 3.8/25.3 MB 1.9 MB/s eta 0:00:12\n",
      "   ------ --------------------------------- 4.0/25.3 MB 2.0 MB/s eta 0:00:11\n",
      "   ------ --------------------------------- 4.1/25.3 MB 2.0 MB/s eta 0:00:11\n",
      "   ------ --------------------------------- 4.3/25.3 MB 2.0 MB/s eta 0:00:11\n",
      "   ------- -------------------------------- 4.5/25.3 MB 2.1 MB/s eta 0:00:11\n",
      "   ------- -------------------------------- 4.6/25.3 MB 2.1 MB/s eta 0:00:11\n",
      "   ------- -------------------------------- 4.7/25.3 MB 2.1 MB/s eta 0:00:10\n",
      "   ------- -------------------------------- 4.9/25.3 MB 2.1 MB/s eta 0:00:10\n",
      "   ------- -------------------------------- 5.0/25.3 MB 2.1 MB/s eta 0:00:10\n",
      "   -------- ------------------------------- 5.2/25.3 MB 2.2 MB/s eta 0:00:10\n",
      "   -------- ------------------------------- 5.3/25.3 MB 2.2 MB/s eta 0:00:10\n",
      "   -------- ------------------------------- 5.5/25.3 MB 2.2 MB/s eta 0:00:10\n",
      "   -------- ------------------------------- 5.6/25.3 MB 2.2 MB/s eta 0:00:09\n",
      "   --------- ------------------------------ 5.7/25.3 MB 2.2 MB/s eta 0:00:09\n",
      "   --------- ------------------------------ 5.9/25.3 MB 2.2 MB/s eta 0:00:09\n",
      "   --------- ------------------------------ 6.0/25.3 MB 2.3 MB/s eta 0:00:09\n",
      "   --------- ------------------------------ 6.2/25.3 MB 2.3 MB/s eta 0:00:09\n",
      "   ---------- ----------------------------- 6.3/25.3 MB 2.3 MB/s eta 0:00:09\n",
      "   ---------- ----------------------------- 6.5/25.3 MB 2.3 MB/s eta 0:00:09\n",
      "   ---------- ----------------------------- 6.7/25.3 MB 2.3 MB/s eta 0:00:09\n",
      "   ---------- ----------------------------- 6.8/25.3 MB 2.3 MB/s eta 0:00:08\n",
      "   ---------- ----------------------------- 6.9/25.3 MB 2.3 MB/s eta 0:00:08\n",
      "   ----------- ---------------------------- 7.1/25.3 MB 2.3 MB/s eta 0:00:08\n",
      "   ----------- ---------------------------- 7.2/25.3 MB 2.3 MB/s eta 0:00:08\n",
      "   ----------- ---------------------------- 7.4/25.3 MB 2.4 MB/s eta 0:00:08\n",
      "   ----------- ---------------------------- 7.5/25.3 MB 2.4 MB/s eta 0:00:08\n",
      "   ------------ --------------------------- 7.6/25.3 MB 2.4 MB/s eta 0:00:08\n",
      "   ------------ --------------------------- 7.8/25.3 MB 2.4 MB/s eta 0:00:08\n",
      "   ------------ --------------------------- 7.9/25.3 MB 2.4 MB/s eta 0:00:08\n",
      "   ------------ --------------------------- 8.0/25.3 MB 2.4 MB/s eta 0:00:08\n",
      "   ------------ --------------------------- 8.1/25.3 MB 2.4 MB/s eta 0:00:08\n",
      "   ------------- -------------------------- 8.2/25.3 MB 2.4 MB/s eta 0:00:08\n",
      "   ------------- -------------------------- 8.4/25.3 MB 2.4 MB/s eta 0:00:08\n",
      "   ------------- -------------------------- 8.5/25.3 MB 2.4 MB/s eta 0:00:08\n",
      "   ------------- -------------------------- 8.6/25.3 MB 2.4 MB/s eta 0:00:07\n",
      "   ------------- -------------------------- 8.8/25.3 MB 2.4 MB/s eta 0:00:07\n",
      "   -------------- ------------------------- 9.0/25.3 MB 2.4 MB/s eta 0:00:07\n",
      "   -------------- ------------------------- 9.1/25.3 MB 2.4 MB/s eta 0:00:07\n",
      "   -------------- ------------------------- 9.2/25.3 MB 2.4 MB/s eta 0:00:07\n",
      "   -------------- ------------------------- 9.4/25.3 MB 2.5 MB/s eta 0:00:07\n",
      "   --------------- ------------------------ 9.5/25.3 MB 2.5 MB/s eta 0:00:07\n",
      "   --------------- ------------------------ 9.6/25.3 MB 2.5 MB/s eta 0:00:07\n",
      "   --------------- ------------------------ 9.8/25.3 MB 2.5 MB/s eta 0:00:07\n",
      "   --------------- ------------------------ 10.0/25.3 MB 2.5 MB/s eta 0:00:07\n",
      "   --------------- ------------------------ 10.1/25.3 MB 2.5 MB/s eta 0:00:07\n",
      "   ---------------- ----------------------- 10.2/25.3 MB 2.5 MB/s eta 0:00:07\n",
      "   ---------------- ----------------------- 10.4/25.3 MB 2.6 MB/s eta 0:00:06\n",
      "   ---------------- ----------------------- 10.6/25.3 MB 2.6 MB/s eta 0:00:06\n",
      "   ----------------- ---------------------- 10.7/25.3 MB 2.7 MB/s eta 0:00:06\n",
      "   ----------------- ---------------------- 10.9/25.3 MB 2.8 MB/s eta 0:00:06\n",
      "   ----------------- ---------------------- 11.0/25.3 MB 2.8 MB/s eta 0:00:06\n",
      "   ----------------- ---------------------- 11.2/25.3 MB 2.8 MB/s eta 0:00:05\n",
      "   ----------------- ---------------------- 11.4/25.3 MB 2.9 MB/s eta 0:00:05\n",
      "   ------------------ --------------------- 11.6/25.3 MB 2.9 MB/s eta 0:00:05\n",
      "   ------------------ --------------------- 11.7/25.3 MB 3.0 MB/s eta 0:00:05\n",
      "   ------------------ --------------------- 11.9/25.3 MB 3.0 MB/s eta 0:00:05\n",
      "   ------------------- -------------------- 12.2/25.3 MB 3.0 MB/s eta 0:00:05\n",
      "   ------------------- -------------------- 12.3/25.3 MB 3.0 MB/s eta 0:00:05\n",
      "   ------------------- -------------------- 12.5/25.3 MB 3.1 MB/s eta 0:00:05\n",
      "   -------------------- ------------------- 12.6/25.3 MB 3.1 MB/s eta 0:00:05\n",
      "   -------------------- ------------------- 12.8/25.3 MB 3.1 MB/s eta 0:00:05\n",
      "   -------------------- ------------------- 13.0/25.3 MB 3.1 MB/s eta 0:00:04\n",
      "   -------------------- ------------------- 13.2/25.3 MB 3.2 MB/s eta 0:00:04\n",
      "   --------------------- ------------------ 13.4/25.3 MB 3.2 MB/s eta 0:00:04\n",
      "   --------------------- ------------------ 13.6/25.3 MB 3.2 MB/s eta 0:00:04\n",
      "   --------------------- ------------------ 13.8/25.3 MB 3.2 MB/s eta 0:00:04\n",
      "   ---------------------- ----------------- 14.0/25.3 MB 3.2 MB/s eta 0:00:04\n",
      "   ---------------------- ----------------- 14.2/25.3 MB 3.2 MB/s eta 0:00:04\n",
      "   ---------------------- ----------------- 14.4/25.3 MB 3.3 MB/s eta 0:00:04\n",
      "   ----------------------- ---------------- 14.5/25.3 MB 3.3 MB/s eta 0:00:04\n",
      "   ----------------------- ---------------- 14.7/25.3 MB 3.2 MB/s eta 0:00:04\n",
      "   ----------------------- ---------------- 14.8/25.3 MB 3.3 MB/s eta 0:00:04\n",
      "   ----------------------- ---------------- 15.0/25.3 MB 3.3 MB/s eta 0:00:04\n",
      "   ------------------------ --------------- 15.2/25.3 MB 3.3 MB/s eta 0:00:04\n",
      "   ------------------------ --------------- 15.3/25.3 MB 3.3 MB/s eta 0:00:04\n",
      "   ------------------------ --------------- 15.5/25.3 MB 3.3 MB/s eta 0:00:04\n",
      "   ------------------------ --------------- 15.7/25.3 MB 3.3 MB/s eta 0:00:03\n",
      "   ------------------------- -------------- 15.9/25.3 MB 3.3 MB/s eta 0:00:03\n",
      "   ------------------------- -------------- 16.1/25.3 MB 3.3 MB/s eta 0:00:03\n",
      "   ------------------------- -------------- 16.2/25.3 MB 3.3 MB/s eta 0:00:03\n",
      "   ------------------------- -------------- 16.4/25.3 MB 3.3 MB/s eta 0:00:03\n",
      "   -------------------------- ------------- 16.6/25.3 MB 3.3 MB/s eta 0:00:03\n",
      "   -------------------------- ------------- 16.8/25.3 MB 3.3 MB/s eta 0:00:03\n",
      "   -------------------------- ------------- 16.9/25.3 MB 3.4 MB/s eta 0:00:03\n",
      "   --------------------------- ------------ 17.1/25.3 MB 3.4 MB/s eta 0:00:03\n",
      "   --------------------------- ------------ 17.3/25.3 MB 3.4 MB/s eta 0:00:03\n",
      "   --------------------------- ------------ 17.4/25.3 MB 3.4 MB/s eta 0:00:03\n",
      "   --------------------------- ------------ 17.6/25.3 MB 3.4 MB/s eta 0:00:03\n",
      "   ---------------------------- ----------- 17.8/25.3 MB 3.4 MB/s eta 0:00:03\n",
      "   ---------------------------- ----------- 18.0/25.3 MB 3.5 MB/s eta 0:00:03\n",
      "   ---------------------------- ----------- 18.2/25.3 MB 3.5 MB/s eta 0:00:03\n",
      "   ---------------------------- ----------- 18.3/25.3 MB 3.5 MB/s eta 0:00:02\n",
      "   ----------------------------- ---------- 18.4/25.3 MB 3.5 MB/s eta 0:00:02\n",
      "   ----------------------------- ---------- 18.6/25.3 MB 3.6 MB/s eta 0:00:02\n",
      "   ----------------------------- ---------- 18.8/25.3 MB 3.6 MB/s eta 0:00:02\n",
      "   ------------------------------ --------- 19.1/25.3 MB 3.6 MB/s eta 0:00:02\n",
      "   ------------------------------ --------- 19.3/25.3 MB 3.6 MB/s eta 0:00:02\n",
      "   ------------------------------ --------- 19.4/25.3 MB 3.6 MB/s eta 0:00:02\n",
      "   ------------------------------- -------- 19.7/25.3 MB 3.6 MB/s eta 0:00:02\n",
      "   ------------------------------- -------- 19.8/25.3 MB 3.6 MB/s eta 0:00:02\n",
      "   ------------------------------- -------- 20.1/25.3 MB 3.7 MB/s eta 0:00:02\n",
      "   -------------------------------- ------- 20.2/25.3 MB 3.7 MB/s eta 0:00:02\n",
      "   -------------------------------- ------- 20.4/25.3 MB 3.7 MB/s eta 0:00:02\n",
      "   -------------------------------- ------- 20.4/25.3 MB 3.7 MB/s eta 0:00:02\n",
      "   -------------------------------- ------- 20.6/25.3 MB 3.7 MB/s eta 0:00:02\n",
      "   -------------------------------- ------- 20.8/25.3 MB 3.7 MB/s eta 0:00:02\n",
      "   --------------------------------- ------ 21.1/25.3 MB 3.7 MB/s eta 0:00:02\n",
      "   --------------------------------- ------ 21.2/25.3 MB 3.7 MB/s eta 0:00:02\n",
      "   --------------------------------- ------ 21.4/25.3 MB 3.7 MB/s eta 0:00:02\n",
      "   ---------------------------------- ----- 21.6/25.3 MB 3.7 MB/s eta 0:00:01\n",
      "   ---------------------------------- ----- 21.8/25.3 MB 3.7 MB/s eta 0:00:01\n",
      "   ---------------------------------- ----- 21.9/25.3 MB 3.7 MB/s eta 0:00:01\n",
      "   ----------------------------------- ---- 22.1/25.3 MB 3.8 MB/s eta 0:00:01\n",
      "   ----------------------------------- ---- 22.3/25.3 MB 3.8 MB/s eta 0:00:01\n",
      "   ----------------------------------- ---- 22.6/25.3 MB 3.8 MB/s eta 0:00:01\n",
      "   ------------------------------------ --- 22.8/25.3 MB 3.8 MB/s eta 0:00:01\n",
      "   ------------------------------------ --- 23.0/25.3 MB 3.8 MB/s eta 0:00:01\n",
      "   ------------------------------------ --- 23.1/25.3 MB 3.8 MB/s eta 0:00:01\n",
      "   ------------------------------------ --- 23.2/25.3 MB 3.8 MB/s eta 0:00:01\n",
      "   ------------------------------------- -- 23.4/25.3 MB 3.7 MB/s eta 0:00:01\n",
      "   ------------------------------------- -- 23.6/25.3 MB 3.8 MB/s eta 0:00:01\n",
      "   ------------------------------------- -- 23.8/25.3 MB 3.8 MB/s eta 0:00:01\n",
      "   -------------------------------------- - 24.0/25.3 MB 3.8 MB/s eta 0:00:01\n",
      "   -------------------------------------- - 24.2/25.3 MB 3.8 MB/s eta 0:00:01\n",
      "   -------------------------------------- - 24.3/25.3 MB 3.8 MB/s eta 0:00:01\n",
      "   -------------------------------------- - 24.5/25.3 MB 3.8 MB/s eta 0:00:01\n",
      "   ---------------------------------------  24.7/25.3 MB 3.8 MB/s eta 0:00:01\n",
      "   ---------------------------------------  24.8/25.3 MB 3.8 MB/s eta 0:00:01\n",
      "   ---------------------------------------  25.1/25.3 MB 3.8 MB/s eta 0:00:01\n",
      "   ---------------------------------------  25.1/25.3 MB 3.8 MB/s eta 0:00:01\n",
      "   ---------------------------------------  25.3/25.3 MB 3.8 MB/s eta 0:00:01\n",
      "   ---------------------------------------  25.3/25.3 MB 3.8 MB/s eta 0:00:01\n",
      "   ---------------------------------------- 25.3/25.3 MB 3.6 MB/s eta 0:00:00\n",
      "Installing collected packages: pyarrow\n",
      "Successfully installed pyarrow-15.0.0\n",
      "Note: you may need to restart the kernel to use updated packages.\n"
     ]
    }
   ],
   "source": [
    "%pip install pyarrow"
   ]
  },
  {
   "cell_type": "code",
   "execution_count": 4,
   "metadata": {},
   "outputs": [
    {
     "name": "stderr",
     "output_type": "stream",
     "text": [
      "[nltk_data] Downloading package vader_lexicon to\n",
      "[nltk_data]     C:\\Users\\javier\\AppData\\Roaming\\nltk_data...\n",
      "[nltk_data]   Package vader_lexicon is already up-to-date!\n"
     ]
    },
    {
     "data": {
      "text/plain": [
       "True"
      ]
     },
     "execution_count": 4,
     "metadata": {},
     "output_type": "execute_result"
    }
   ],
   "source": [
    "import nltk\n",
    "nltk.download('vader_lexicon')\n"
   ]
  },
  {
   "cell_type": "code",
   "execution_count": null,
   "metadata": {},
   "outputs": [],
   "source": [
    "from nltk.sentiment import SentimentIntensityAnalyzer\n",
    "\n",
    "# Create an instance of the sentiment intensity analyzer\n",
    "sid = SentimentIntensityAnalyzer()\n",
    "\n",
    "# Sample reviews\n",
    "# comments = reviews.comments\n",
    "\n",
    "# Analyze the sentiment of each review\n",
    "for i, review in reviews.iterrows():\n",
    "    # print(review)\n",
    "    if i == 100:\n",
    "        break\n",
    "    try:\n",
    "        scores = sid.polarity_scores(review.comments)\n",
    "        compound = scores['compound']\n",
    "        # for key in sorted(scores):\n",
    "            # print(f\"{key}: {scores[key]}\", end=\" \")\n",
    "        # for key in sorted(scores):\n",
    "        \n",
    "        if compound > .4 and compound < .6:\n",
    "            print(compound, review.listing_id, review.reviewer_name, review.comments, \"\\n\", end=\" \")\n",
    "    except:\n",
    "        pass\n",
    "    \n",
    "# sid.polarity_scores(\"Excellent, genius, best in the world\")"
   ]
  },
  {
   "cell_type": "code",
   "execution_count": 6,
   "metadata": {},
   "outputs": [
    {
     "data": {
      "text/html": [
       "<div>\n",
       "<style scoped>\n",
       "    .dataframe tbody tr th:only-of-type {\n",
       "        vertical-align: middle;\n",
       "    }\n",
       "\n",
       "    .dataframe tbody tr th {\n",
       "        vertical-align: top;\n",
       "    }\n",
       "\n",
       "    .dataframe thead th {\n",
       "        text-align: right;\n",
       "    }\n",
       "</style>\n",
       "<table border=\"1\" class=\"dataframe\">\n",
       "  <thead>\n",
       "    <tr style=\"text-align: right;\">\n",
       "      <th></th>\n",
       "      <th>listing_id</th>\n",
       "      <th>id</th>\n",
       "      <th>date</th>\n",
       "      <th>reviewer_id</th>\n",
       "      <th>reviewer_name</th>\n",
       "      <th>comments</th>\n",
       "    </tr>\n",
       "  </thead>\n",
       "  <tbody>\n",
       "    <tr>\n",
       "      <th>0</th>\n",
       "      <td>11508</td>\n",
       "      <td>1615861</td>\n",
       "      <td>2012-07-02</td>\n",
       "      <td>877808</td>\n",
       "      <td>Charlie</td>\n",
       "      <td>Amazing place!\\r\\n\\r\\nLocation: short walk to ...</td>\n",
       "    </tr>\n",
       "    <tr>\n",
       "      <th>1</th>\n",
       "      <td>11508</td>\n",
       "      <td>3157005</td>\n",
       "      <td>2012-12-26</td>\n",
       "      <td>656077</td>\n",
       "      <td>Shaily</td>\n",
       "      <td>Really enjoyed Candela's recommendations and q...</td>\n",
       "    </tr>\n",
       "    <tr>\n",
       "      <th>2</th>\n",
       "      <td>11508</td>\n",
       "      <td>3281011</td>\n",
       "      <td>2013-01-05</td>\n",
       "      <td>2835998</td>\n",
       "      <td>Michiel</td>\n",
       "      <td>Candela and her colleague were very attentive ...</td>\n",
       "    </tr>\n",
       "    <tr>\n",
       "      <th>3</th>\n",
       "      <td>11508</td>\n",
       "      <td>6050019</td>\n",
       "      <td>2013-07-28</td>\n",
       "      <td>4600436</td>\n",
       "      <td>Tara</td>\n",
       "      <td>The apartment was in a beautiful, modern build...</td>\n",
       "    </tr>\n",
       "    <tr>\n",
       "      <th>4</th>\n",
       "      <td>11508</td>\n",
       "      <td>9328455</td>\n",
       "      <td>2013-12-22</td>\n",
       "      <td>3130017</td>\n",
       "      <td>Simon</td>\n",
       "      <td>My stay at Candela's apartment was very enjoya...</td>\n",
       "    </tr>\n",
       "    <tr>\n",
       "      <th>...</th>\n",
       "      <td>...</td>\n",
       "      <td>...</td>\n",
       "      <td>...</td>\n",
       "      <td>...</td>\n",
       "      <td>...</td>\n",
       "      <td>...</td>\n",
       "    </tr>\n",
       "    <tr>\n",
       "      <th>387094</th>\n",
       "      <td>42974156</td>\n",
       "      <td>621670219</td>\n",
       "      <td>2020-04-03</td>\n",
       "      <td>270233993</td>\n",
       "      <td>Carolina</td>\n",
       "      <td>Muchas gracias Mariano por la amabilidad en to...</td>\n",
       "    </tr>\n",
       "    <tr>\n",
       "      <th>387095</th>\n",
       "      <td>42975917</td>\n",
       "      <td>620648461</td>\n",
       "      <td>2020-03-23</td>\n",
       "      <td>342208450</td>\n",
       "      <td>Guillermo</td>\n",
       "      <td>Me encanto el lugar. Impecable, moderno, y ate...</td>\n",
       "    </tr>\n",
       "    <tr>\n",
       "      <th>387096</th>\n",
       "      <td>42990298</td>\n",
       "      <td>622364643</td>\n",
       "      <td>2020-04-13</td>\n",
       "      <td>342811096</td>\n",
       "      <td>Heber</td>\n",
       "      <td>Lugar muy bien ubicado y tal cual las fotos, c...</td>\n",
       "    </tr>\n",
       "    <tr>\n",
       "      <th>387097</th>\n",
       "      <td>43080350</td>\n",
       "      <td>622571105</td>\n",
       "      <td>2020-04-17</td>\n",
       "      <td>184553721</td>\n",
       "      <td>Elisabeth</td>\n",
       "      <td>The apartment is a beautiful, small and good l...</td>\n",
       "    </tr>\n",
       "    <tr>\n",
       "      <th>387098</th>\n",
       "      <td>43084875</td>\n",
       "      <td>621736142</td>\n",
       "      <td>2020-04-04</td>\n",
       "      <td>342962187</td>\n",
       "      <td>Carlos</td>\n",
       "      <td>impecable</td>\n",
       "    </tr>\n",
       "  </tbody>\n",
       "</table>\n",
       "<p>387099 rows × 6 columns</p>\n",
       "</div>"
      ],
      "text/plain": [
       "        listing_id         id        date  reviewer_id reviewer_name  \\\n",
       "0            11508    1615861  2012-07-02       877808       Charlie   \n",
       "1            11508    3157005  2012-12-26       656077        Shaily   \n",
       "2            11508    3281011  2013-01-05      2835998       Michiel   \n",
       "3            11508    6050019  2013-07-28      4600436          Tara   \n",
       "4            11508    9328455  2013-12-22      3130017         Simon   \n",
       "...            ...        ...         ...          ...           ...   \n",
       "387094    42974156  621670219  2020-04-03    270233993      Carolina   \n",
       "387095    42975917  620648461  2020-03-23    342208450     Guillermo   \n",
       "387096    42990298  622364643  2020-04-13    342811096         Heber   \n",
       "387097    43080350  622571105  2020-04-17    184553721     Elisabeth   \n",
       "387098    43084875  621736142  2020-04-04    342962187        Carlos   \n",
       "\n",
       "                                                 comments  \n",
       "0       Amazing place!\\r\\n\\r\\nLocation: short walk to ...  \n",
       "1       Really enjoyed Candela's recommendations and q...  \n",
       "2       Candela and her colleague were very attentive ...  \n",
       "3       The apartment was in a beautiful, modern build...  \n",
       "4       My stay at Candela's apartment was very enjoya...  \n",
       "...                                                   ...  \n",
       "387094  Muchas gracias Mariano por la amabilidad en to...  \n",
       "387095  Me encanto el lugar. Impecable, moderno, y ate...  \n",
       "387096  Lugar muy bien ubicado y tal cual las fotos, c...  \n",
       "387097  The apartment is a beautiful, small and good l...  \n",
       "387098                                          impecable  \n",
       "\n",
       "[387099 rows x 6 columns]"
      ]
     },
     "execution_count": 6,
     "metadata": {},
     "output_type": "execute_result"
    }
   ],
   "source": [
    "# reviews = pd.read_csv('../datasets/reviews.csv')\n",
    "reviews"
   ]
  },
  {
   "cell_type": "code",
   "execution_count": 52,
   "metadata": {},
   "outputs": [
    {
     "data": {
      "text/plain": [
       "0         95.0\n",
       "1         95.0\n",
       "2        100.0\n",
       "3          NaN\n",
       "4         99.0\n",
       "         ...  \n",
       "23724      NaN\n",
       "23725      NaN\n",
       "23726      NaN\n",
       "23727      NaN\n",
       "23728      NaN\n",
       "Name: review_scores_rating, Length: 23729, dtype: float64"
      ]
     },
     "execution_count": 52,
     "metadata": {},
     "output_type": "execute_result"
    }
   ],
   "source": [
    "listings.iloc[:,-20]"
   ]
  },
  {
   "cell_type": "code",
   "execution_count": null,
   "metadata": {},
   "outputs": [],
   "source": [
    "import pandas as pd\n",
    "\n",
    "pd.Da"
   ]
  }
 ],
 "metadata": {
  "kernelspec": {
   "display_name": ".venv",
   "language": "python",
   "name": "python3"
  },
  "language_info": {
   "codemirror_mode": {
    "name": "ipython",
    "version": 3
   },
   "file_extension": ".py",
   "mimetype": "text/x-python",
   "name": "python",
   "nbconvert_exporter": "python",
   "pygments_lexer": "ipython3",
   "version": "3.12.1"
  }
 },
 "nbformat": 4,
 "nbformat_minor": 2
}
