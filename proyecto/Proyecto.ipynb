{
 "cells": [
  {
   "cell_type": "markdown",
   "metadata": {},
   "source": [
    "# Proyecto AirBNB"
   ]
  },
  {
   "cell_type": "markdown",
   "metadata": {},
   "source": [
    "### Estudio del Contexto\n",
    "\n",
    "#### ¿Qué es AirBNB?\n",
    "\n",
    "Antes de hacer la exploración y el análisi de los datos, nos ponemos en contexto.\n",
    "\n",
    "\"Airbnb es una compañía que ofrece una plataforma digital dedicada a la oferta de alojamientos a particulares y turísticos (alquiler vacacional) mediante la cual los anfitriones pueden publicitar y contratar el arriendo de sus propiedades con sus huéspedes; anfitriones y huéspedes pueden valorarse mutuamente, como referencia para futuros usuarios.\" Wikipedia [es.wikipedia.org/wiki/Airbnb](https://es.wikipedia.org/wiki/Airbnb)\n",
    "\n",
    "De esta manera sabemos qué vamos a encontrar, información de alojamientos y referencias."
   ]
  },
  {
   "cell_type": "markdown",
   "metadata": {},
   "source": [
    "#### Exploramos el directorio Datasets\n",
    "\n",
    "```` javascript\n",
    "ls -s datasets\n",
    "total 627988\n",
    " 432868 calendar.csv\n",
    " 86000 listings.csv\n",
    " 109120 reviews.csv\n",
    "````\n",
    "\n",
    "Vemos que son Archivos tipo csv de tamaño medio a grande, por lo tanto es lo primero que vamos a tener en cuenta.\n",
    "\n",
    "Pasamos a hacer el EDA"
   ]
  },
  {
   "cell_type": "markdown",
   "metadata": {},
   "source": [
    "##### Analizamos el archivo ````calendar.csv````\n",
    "\n",
    "````\n",
    "listing_id,date,available,price,adjusted_price,minimum_nights,maximum_nights\n",
    "50778,2020-04-26,f,\"$2,655.00\",\"$2,655.00\",5,1125\n",
    "133654,2020-04-27,t,\"$1,150.00\",\"$1,150.00\",4,1125\n",
    "133654,2020-04-28,t,\"$1,150.00\",\"$1,150.00\",4,1125\n",
    "133654,2020-04-29,t,\"$1,150.00\",\"$1,150.00\",4,1125\n",
    "133654,2020-04-30,t,\"$1,150.00\",\"$1,150.00\",4,1125\n",
    "133654,2020-05-01,t,\"$1,150.00\",\"$1,150.00\",4,1125\n",
    "133654,2020-05-02,t,\"$1,150.00\",\"$1,150.00\",4,1125\n",
    "````"
   ]
  },
  {
   "cell_type": "markdown",
   "metadata": {},
   "source": [
    "A simple vista, parece que es una tabla de hechos, desde el punto de vista de datawarehouse, con los siguientes campos\n",
    "\n",
    "* **listing_id**: Es el id de la tabla  que detalla los alojamientos, el lugar físico\n",
    "* **date**: fecha\n",
    "* **available**: **t** es True, **f** is false\n",
    "* **price**: precio por noche\n",
    "* **adjusted_price**: \n",
    "* **minimum_nights**: cantidad minima de noches\n",
    "* **maximum_nights**: cantidad maxima de noches\n",
    "\n",
    "Después de hacer un insight en el archivo listings, verificamos que calendat asocia un alojamiento con una fecha, disponibilidad y precio, siendo los dos últimos campos, redundantes\n"
   ]
  },
  {
   "cell_type": "markdown",
   "metadata": {},
   "source": [
    "Procedemos a realizar la limpieza"
   ]
  },
  {
   "cell_type": "code",
   "execution_count": 5,
   "metadata": {},
   "outputs": [],
   "source": [
    "import pandas as pd\n",
    "import numpy as np"
   ]
  },
  {
   "cell_type": "code",
   "execution_count": null,
   "metadata": {},
   "outputs": [],
   "source": [
    "calendar = pd.read_csv('../datasets/calendar.csv', sep=',', usecols=['listing_id', 'date', 'available', 'price', 'adjusted_price'])\n",
    "\n",
    "calendar.listing_id = calendar.listing_id.astype('uint16').copy()\n",
    "\n",
    "calendar.available = calendar.available.apply(lambda x: False if x == 'f' else True).copy()\n",
    "\n",
    "calendar.date = pd.to_datetime(calendar.date).copy()\n",
    "calendar.price = calendar.price.apply(lambda x: x.replace(\"\\\"\", \"\").replace(\"$\", \"\").replace(\",\", \"\")).copy()\n",
    "calendar.adjusted_price = calendar.adjusted_price.apply(lambda x: x.replace(\"\\\"\", \"\").replace(\"$\", \"\").replace(\",\", \"\")).copy()\n",
    "calendar.price = calendar.price.astype(\"float32\").copy()\n",
    "calendar.adjusted_price = calendar.adjusted_price.astype(\"float32\").copy()\n"
   ]
  },
  {
   "cell_type": "code",
   "execution_count": 3,
   "metadata": {},
   "outputs": [],
   "source": [
    "import matplotlib.pyplot as plt\n",
    "import seaborn as sns"
   ]
  },
  {
   "cell_type": "code",
   "execution_count": 14,
   "metadata": {},
   "outputs": [],
   "source": [
    "import pymysql\n",
    "import pandas as pd\n",
    "import numpy as np\n",
    "\n",
    "HOST='localhost'\n",
    "SCHEMA='airbnb'\n",
    "USER='root'\n",
    "PORT=3306\n",
    "# PASS='****'\n",
    "\n",
    "\n",
    "# calendar_limpio = pd.read_csv('../datasets/calendar_limpio.csv', sep=\"\\t\")\n",
    "\n",
    "\n",
    "from sqlalchemy import create_engine\n",
    "# cnx = create_engine('mysql+pymysql://[user]:[pass]@[host]:[port]/[schema]', echo=False)\n",
    "\n",
    "# cnx = create_engine(f'mysql+pymysql://${USER}:${PASS}@{HOST}:{PORT}/{SCHEMA}', echo=False)\n",
    "cnx = create_engine(f'mysql+pymysql://root:{PASS}@{HOST}:{PORT}/{SCHEMA}', echo=False)\n",
    "\n",
    "# calendar_limpio.to_sql(name=\"calendar\", con=cnx)"
   ]
  },
  {
   "cell_type": "markdown",
   "metadata": {},
   "source": [
    "## Archivo **listings.csv**\n",
    "\n",
    "Procederemos a leer via DataFrame el archivo **listings.csv**"
   ]
  },
  {
   "cell_type": "code",
   "execution_count": 6,
   "metadata": {},
   "outputs": [],
   "source": [
    "listings = pd.read_csv('../datasets/listings.csv', low_memory=False)"
   ]
  },
  {
   "cell_type": "code",
   "execution_count": 7,
   "metadata": {},
   "outputs": [
    {
     "name": "stdout",
     "output_type": "stream",
     "text": [
      "<class 'pandas.core.frame.DataFrame'>\n",
      "RangeIndex: 23729 entries, 0 to 23728\n",
      "Columns: 106 entries, id to reviews_per_month\n",
      "dtypes: float64(23), int64(21), object(62)\n",
      "memory usage: 19.2+ MB\n"
     ]
    }
   ],
   "source": [
    "listings.head()\n",
    "listings.info()"
   ]
  },
  {
   "cell_type": "markdown",
   "metadata": {},
   "source": [
    "Vemos que contiene 106 columnas!!!\n",
    "\n",
    "````[id, ...., calculated_host_listings_count_shared_rooms, reviews_per_month]````"
   ]
  },
  {
   "cell_type": "code",
   "execution_count": null,
   "metadata": {},
   "outputs": [],
   "source": [
    "colunmas_listings = listings.columns\n",
    "\n",
    "for i, c in enumerate(colunmas_listings):\n",
    "    print(c, end=\", \")"
   ]
  },
  {
   "cell_type": "markdown",
   "metadata": {},
   "source": [
    "Luego de un análisis se puede ver como tablas relacionales condensadas en una sola, después de un análisis de las columnas llegamos a la conclusión que podemos extraer al menos 8 tablas según la naturaleza de las columnas.\n",
    "\n",
    "Separamos por ejemplo, la información de los anfitriones en una tabla llamada **hosts** y la almacenamos en **MySQL**."
   ]
  },
  {
   "cell_type": "code",
   "execution_count": 15,
   "metadata": {},
   "outputs": [
    {
     "data": {
      "text/plain": [
       "15536"
      ]
     },
     "execution_count": 15,
     "metadata": {},
     "output_type": "execute_result"
    }
   ],
   "source": [
    "columnas_host = ['host_id', 'host_url', 'host_name', 'host_since', 'host_location',\n",
    "       'host_about', 'host_response_time', 'host_response_rate',\n",
    "       'host_acceptance_rate', 'host_is_superhost', 'host_thumbnail_url',\n",
    "       'host_picture_url', 'host_neighbourhood', 'host_listings_count',\n",
    "       'host_total_listings_count', 'host_verifications',\n",
    "       'host_has_profile_pic', 'host_identity_verified']\n",
    "\n",
    "host = listings[columnas_host]\n",
    "host = host.drop_duplicates()\n",
    "\n",
    "host.to_sql(name=\"hosts\", con=cnx, if_exists='replace')\n",
    "# host.to_csv('../datasets/hosts.csv', encoding='utf-8', sep=';')\n"
   ]
  },
  {
   "cell_type": "markdown",
   "metadata": {},
   "source": [
    "Actualizamos la tabla quitando la info de los anfitriones en el dataframe de listings"
   ]
  },
  {
   "cell_type": "code",
   "execution_count": 16,
   "metadata": {},
   "outputs": [],
   "source": [
    "listings_filtered = listings.drop(columnas_host[1:], axis=1)"
   ]
  },
  {
   "cell_type": "markdown",
   "metadata": {},
   "source": [
    "Usando este mismo formato continuamos con las siguientes tablas que podemos generar"
   ]
  },
  {
   "cell_type": "code",
   "execution_count": 17,
   "metadata": {},
   "outputs": [],
   "source": [
    "columnas_info1 = ['id', 'listing_url', 'scrape_id', 'last_scraped', 'name', 'summary',\n",
    "       'space', 'description', 'experiences_offered', 'neighborhood_overview',\n",
    "       'notes', 'transit', 'access', 'interaction', 'house_rules',\n",
    "       'thumbnail_url', 'medium_url', 'picture_url', 'xl_picture_url']\n",
    "columnas_info2 = [\"id\",\"street\", \"neighbourhood_cleansed\", \"neighbourhood_group_cleansed\",\"require_guest_profile_picture\",\"require_guest_phone_verification\",\n",
    "           \"calculated_host_listings_count\", \"calculated_host_listings_count_entire_homes\", \"calculated_host_listings_count_shared_rooms\",\n",
    "           \"calculated_host_listings_count_private_rooms\"]\n",
    "columnas_location = ['id', 'neighbourhood', 'city', 'state',\n",
    "       'zipcode', 'market', 'smart_location', 'country_code', 'country',\n",
    "       'latitude', 'longitude', 'is_location_exact']\n",
    "columnas_propiedad = ['id','property_type', 'room_type', 'accommodates', 'bathrooms', 'bedrooms',\n",
    "       'beds', 'bed_type', 'amenities', 'square_feet']\n",
    "columnas_precio = ['id','price', 'weekly_price', 'monthly_price', 'security_deposit',\n",
    "       'cleaning_fee', 'guests_included', 'extra_people']\n",
    "columnas_disponibilidad = ['id', 'minimum_nights', 'maximum_nights', 'minimum_minimum_nights',\n",
    "       'maximum_minimum_nights', 'minimum_maximum_nights',\n",
    "       'maximum_maximum_nights', 'minimum_nights_avg_ntm',\n",
    "       'maximum_nights_avg_ntm', 'calendar_updated', 'has_availability',\n",
    "       'availability_30', 'availability_60', 'availability_90',\n",
    "       'availability_365', 'calendar_last_scraped']\n",
    "columnas_review = ['id','number_of_reviews', 'number_of_reviews_ltm', 'first_review',\n",
    "       'last_review', 'review_scores_rating', 'review_scores_accuracy',\n",
    "       'review_scores_cleanliness', 'review_scores_checkin',\n",
    "       'review_scores_communication', 'review_scores_location',\n",
    "       'review_scores_value', 'reviews_per_month']"
   ]
  },
  {
   "cell_type": "code",
   "execution_count": 18,
   "metadata": {},
   "outputs": [],
   "source": [
    "info1 = listings[columnas_info1]\n",
    "info2 = listings[columnas_info2]\n",
    "location = listings[columnas_location]\n",
    "datos_propiedad = listings[columnas_propiedad]\n",
    "precios = listings[columnas_precio]\n",
    "disponibilidad = listings[columnas_disponibilidad]\n",
    "reviews_info = listings[columnas_review]"
   ]
  },
  {
   "cell_type": "code",
   "execution_count": 19,
   "metadata": {},
   "outputs": [],
   "source": [
    "listings_filtered = listings_filtered.drop(columnas_info1[1:], axis=1)\n",
    "listings_filtered = listings_filtered.drop(columnas_info2[1:], axis=1)\n",
    "listings_filtered = listings_filtered.drop(columnas_location[1:], axis=1)\n",
    "listings_filtered = listings_filtered.drop(columnas_propiedad[1:], axis=1)\n",
    "listings_filtered = listings_filtered.drop(columnas_precio[1:], axis=1)\n",
    "listings_filtered = listings_filtered.drop(columnas_disponibilidad[1:], axis=1)\n",
    "listings_filtered = listings_filtered.drop(columnas_review[1:], axis=1)"
   ]
  },
  {
   "cell_type": "markdown",
   "metadata": {},
   "source": [
    "Una Vez terminada la etapa de Extracción, pasamos a la etapa de procesamiento"
   ]
  },
  {
   "cell_type": "markdown",
   "metadata": {},
   "source": [
    "En este caso comenzamos con el DataFrame **info1**.\n",
    "Ejecutando el metodo ***info()***, vemos que hay 3 columnas con valores nulos y procedemos a quitarlas."
   ]
  },
  {
   "cell_type": "code",
   "execution_count": null,
   "metadata": {},
   "outputs": [],
   "source": [
    "# info1 = info1.drop(['thumbnail_url', 'medium_url', 'xl_picture_url'], axis=1).copy()\n",
    "\n",
    "info1.info()"
   ]
  },
  {
   "cell_type": "markdown",
   "metadata": {},
   "source": [
    "De esta manera seguimos trabajando con los siguientes frames"
   ]
  },
  {
   "cell_type": "code",
   "execution_count": 22,
   "metadata": {},
   "outputs": [
    {
     "name": "stdout",
     "output_type": "stream",
     "text": [
      "<class 'pandas.core.frame.DataFrame'>\n",
      "RangeIndex: 23729 entries, 0 to 23728\n",
      "Data columns (total 10 columns):\n",
      " #   Column                                        Non-Null Count  Dtype  \n",
      "---  ------                                        --------------  -----  \n",
      " 0   id                                            23729 non-null  int64  \n",
      " 1   street                                        23729 non-null  object \n",
      " 2   neighbourhood_cleansed                        23729 non-null  object \n",
      " 3   neighbourhood_group_cleansed                  0 non-null      float64\n",
      " 4   require_guest_profile_picture                 23729 non-null  object \n",
      " 5   require_guest_phone_verification              23729 non-null  object \n",
      " 6   calculated_host_listings_count                23729 non-null  int64  \n",
      " 7   calculated_host_listings_count_entire_homes   23729 non-null  int64  \n",
      " 8   calculated_host_listings_count_shared_rooms   23729 non-null  int64  \n",
      " 9   calculated_host_listings_count_private_rooms  23729 non-null  int64  \n",
      "dtypes: float64(1), int64(5), object(4)\n",
      "memory usage: 1.8+ MB\n"
     ]
    }
   ],
   "source": [
    "info2.info()"
   ]
  },
  {
   "cell_type": "code",
   "execution_count": 23,
   "metadata": {},
   "outputs": [],
   "source": [
    "info2 = info2.drop(columns=['neighbourhood_group_cleansed'], axis=1).copy()"
   ]
  },
  {
   "cell_type": "code",
   "execution_count": 24,
   "metadata": {},
   "outputs": [],
   "source": [
    "info2['require_guest_profile_picture'] = info2['require_guest_profile_picture'].apply(lambda x: True if x == 't' else False).copy()\n",
    "info2['require_guest_phone_verification'] = info2['require_guest_phone_verification'].apply(lambda x: True if x == 't' else False).copy()"
   ]
  },
  {
   "cell_type": "code",
   "execution_count": 26,
   "metadata": {},
   "outputs": [
    {
     "data": {
      "text/plain": [
       "require_guest_phone_verification\n",
       "False    23411\n",
       "True       318\n",
       "Name: count, dtype: int64"
      ]
     },
     "execution_count": 26,
     "metadata": {},
     "output_type": "execute_result"
    }
   ],
   "source": [
    "info2.iloc[:,4].value_counts()"
   ]
  },
  {
   "cell_type": "code",
   "execution_count": 50,
   "metadata": {},
   "outputs": [
    {
     "name": "stdout",
     "output_type": "stream",
     "text": [
      "<class 'pandas.core.frame.DataFrame'>\n",
      "RangeIndex: 23729 entries, 0 to 23728\n",
      "Data columns (total 12 columns):\n",
      " #   Column             Non-Null Count  Dtype   \n",
      "---  ------             --------------  -----   \n",
      " 0   id                 23729 non-null  int64   \n",
      " 1   neighbourhood      23729 non-null  object  \n",
      " 2   city               23142 non-null  category\n",
      " 3   state              23546 non-null  object  \n",
      " 4   zipcode            18542 non-null  object  \n",
      " 5   market             23708 non-null  object  \n",
      " 6   smart_location     23729 non-null  object  \n",
      " 7   country_code       23729 non-null  category\n",
      " 8   country            23729 non-null  object  \n",
      " 9   latitude           23729 non-null  float64 \n",
      " 10  longitude          23729 non-null  float64 \n",
      " 11  is_location_exact  23729 non-null  bool    \n",
      "dtypes: bool(1), category(2), float64(2), int64(1), object(6)\n",
      "memory usage: 1.8+ MB\n"
     ]
    }
   ],
   "source": [
    "location.info()"
   ]
  },
  {
   "cell_type": "code",
   "execution_count": null,
   "metadata": {},
   "outputs": [],
   "source": [
    "# location['is_location_exact'] = location['is_location_exact'].apply(lambda x: True if x == 't'else False).copy()\n",
    "# location.country_code = location.country_code.astype('category')\n",
    "# location.info()\n",
    "\n",
    "# ciudad = location['city'].astype('category').copy()\n",
    "\n",
    "# location.iloc [:,2] = ciudad\n",
    "\n",
    "location['country'] = location['country'].astype('category').copy()\n",
    "\n",
    "location.info()"
   ]
  },
  {
   "cell_type": "code",
   "execution_count": null,
   "metadata": {},
   "outputs": [],
   "source": [
    "location['neighbourhood'] = location['neighbourhood'].astype('category').copy()\n",
    "\n",
    "location.info()"
   ]
  },
  {
   "cell_type": "code",
   "execution_count": 283,
   "metadata": {},
   "outputs": [],
   "source": [
    "# location[location.state.isin(['Autonomous City of Buenos Aires'])].state = 'CABA'\n",
    "# location['state'] = location['state'].replace('-1', 'CABA')\n",
    "\n",
    "\n",
    "# location.state.value_counts()\n",
    "\n",
    "location.loc[:,'state'] = 'Buenos Aires'\n",
    "location.loc[:,'city'] = 'Ciudad de Buenos Aires'"
   ]
  },
  {
   "cell_type": "code",
   "execution_count": 189,
   "metadata": {},
   "outputs": [],
   "source": [
    "# location.loc[location['neighbourhood'] == 'Villa del Parque','state'] = 'CABA'"
   ]
  },
  {
   "cell_type": "code",
   "execution_count": 286,
   "metadata": {},
   "outputs": [
    {
     "name": "stdout",
     "output_type": "stream",
     "text": [
      "<class 'pandas.core.frame.DataFrame'>\n",
      "RangeIndex: 23729 entries, 0 to 23728\n",
      "Data columns (total 10 columns):\n",
      " #   Column         Non-Null Count  Dtype   \n",
      "---  ------         --------------  -----   \n",
      " 0   id             23729 non-null  int64   \n",
      " 1   property_type  23729 non-null  category\n",
      " 2   room_type      23729 non-null  category\n",
      " 3   accommodates   23729 non-null  int64   \n",
      " 4   bathrooms      23667 non-null  float64 \n",
      " 5   bedrooms       23686 non-null  float64 \n",
      " 6   beds           23562 non-null  float64 \n",
      " 7   bed_type       23729 non-null  category\n",
      " 8   amenities      23729 non-null  object  \n",
      " 9   square_feet    383 non-null    float64 \n",
      "dtypes: category(3), float64(4), int64(2), object(1)\n",
      "memory usage: 1.3+ MB\n"
     ]
    }
   ],
   "source": [
    "\n",
    "datos_propiedad.loc[:,'property_type'] = datos_propiedad['property_type'].astype('category').copy()\n",
    "datos_propiedad.loc[:,'room_type'] = datos_propiedad['room_type'].astype('category').copy()\n",
    "datos_propiedad.loc[:,'bed_type'] = datos_propiedad['bed_type'].astype('category').copy()\n",
    "\n",
    "\n",
    "datos_propiedad.info()"
   ]
  },
  {
   "cell_type": "code",
   "execution_count": 287,
   "metadata": {},
   "outputs": [
    {
     "data": {
      "text/html": [
       "<div>\n",
       "<style scoped>\n",
       "    .dataframe tbody tr th:only-of-type {\n",
       "        vertical-align: middle;\n",
       "    }\n",
       "\n",
       "    .dataframe tbody tr th {\n",
       "        vertical-align: top;\n",
       "    }\n",
       "\n",
       "    .dataframe thead th {\n",
       "        text-align: right;\n",
       "    }\n",
       "</style>\n",
       "<table border=\"1\" class=\"dataframe\">\n",
       "  <thead>\n",
       "    <tr style=\"text-align: right;\">\n",
       "      <th></th>\n",
       "      <th>id</th>\n",
       "      <th>price</th>\n",
       "      <th>weekly_price</th>\n",
       "      <th>monthly_price</th>\n",
       "      <th>security_deposit</th>\n",
       "      <th>cleaning_fee</th>\n",
       "      <th>guests_included</th>\n",
       "      <th>extra_people</th>\n",
       "    </tr>\n",
       "  </thead>\n",
       "  <tbody>\n",
       "    <tr>\n",
       "      <th>0</th>\n",
       "      <td>11508</td>\n",
       "      <td>3983.0</td>\n",
       "      <td>39828.0</td>\n",
       "      <td>82975.0</td>\n",
       "      <td>0.0</td>\n",
       "      <td>3319.0</td>\n",
       "      <td>1</td>\n",
       "      <td>0.0</td>\n",
       "    </tr>\n",
       "    <tr>\n",
       "      <th>1</th>\n",
       "      <td>12463</td>\n",
       "      <td>1593.0</td>\n",
       "      <td>NaN</td>\n",
       "      <td>NaN</td>\n",
       "      <td>NaN</td>\n",
       "      <td>NaN</td>\n",
       "      <td>1</td>\n",
       "      <td>0.0</td>\n",
       "    </tr>\n",
       "    <tr>\n",
       "      <th>2</th>\n",
       "      <td>13095</td>\n",
       "      <td>2987.0</td>\n",
       "      <td>NaN</td>\n",
       "      <td>NaN</td>\n",
       "      <td>NaN</td>\n",
       "      <td>NaN</td>\n",
       "      <td>1</td>\n",
       "      <td>0.0</td>\n",
       "    </tr>\n",
       "    <tr>\n",
       "      <th>3</th>\n",
       "      <td>13096</td>\n",
       "      <td>2987.0</td>\n",
       "      <td>NaN</td>\n",
       "      <td>NaN</td>\n",
       "      <td>19914.0</td>\n",
       "      <td>1328.0</td>\n",
       "      <td>1</td>\n",
       "      <td>0.0</td>\n",
       "    </tr>\n",
       "    <tr>\n",
       "      <th>4</th>\n",
       "      <td>13097</td>\n",
       "      <td>2987.0</td>\n",
       "      <td>NaN</td>\n",
       "      <td>NaN</td>\n",
       "      <td>NaN</td>\n",
       "      <td>NaN</td>\n",
       "      <td>1</td>\n",
       "      <td>996.0</td>\n",
       "    </tr>\n",
       "    <tr>\n",
       "      <th>...</th>\n",
       "      <td>...</td>\n",
       "      <td>...</td>\n",
       "      <td>...</td>\n",
       "      <td>...</td>\n",
       "      <td>...</td>\n",
       "      <td>...</td>\n",
       "      <td>...</td>\n",
       "      <td>...</td>\n",
       "    </tr>\n",
       "    <tr>\n",
       "      <th>23724</th>\n",
       "      <td>43278316</td>\n",
       "      <td>5111.0</td>\n",
       "      <td>NaN</td>\n",
       "      <td>NaN</td>\n",
       "      <td>NaN</td>\n",
       "      <td>NaN</td>\n",
       "      <td>1</td>\n",
       "      <td>0.0</td>\n",
       "    </tr>\n",
       "    <tr>\n",
       "      <th>23725</th>\n",
       "      <td>43280399</td>\n",
       "      <td>1328.0</td>\n",
       "      <td>NaN</td>\n",
       "      <td>NaN</td>\n",
       "      <td>NaN</td>\n",
       "      <td>NaN</td>\n",
       "      <td>1</td>\n",
       "      <td>0.0</td>\n",
       "    </tr>\n",
       "    <tr>\n",
       "      <th>23726</th>\n",
       "      <td>43280552</td>\n",
       "      <td>2390.0</td>\n",
       "      <td>NaN</td>\n",
       "      <td>NaN</td>\n",
       "      <td>NaN</td>\n",
       "      <td>NaN</td>\n",
       "      <td>1</td>\n",
       "      <td>0.0</td>\n",
       "    </tr>\n",
       "    <tr>\n",
       "      <th>23727</th>\n",
       "      <td>43281112</td>\n",
       "      <td>2854.0</td>\n",
       "      <td>NaN</td>\n",
       "      <td>NaN</td>\n",
       "      <td>NaN</td>\n",
       "      <td>NaN</td>\n",
       "      <td>1</td>\n",
       "      <td>0.0</td>\n",
       "    </tr>\n",
       "    <tr>\n",
       "      <th>23728</th>\n",
       "      <td>43286057</td>\n",
       "      <td>996.0</td>\n",
       "      <td>NaN</td>\n",
       "      <td>NaN</td>\n",
       "      <td>NaN</td>\n",
       "      <td>NaN</td>\n",
       "      <td>1</td>\n",
       "      <td>0.0</td>\n",
       "    </tr>\n",
       "  </tbody>\n",
       "</table>\n",
       "<p>23729 rows × 8 columns</p>\n",
       "</div>"
      ],
      "text/plain": [
       "             id   price  weekly_price  monthly_price security_deposit  \\\n",
       "0         11508  3983.0       39828.0        82975.0              0.0   \n",
       "1         12463  1593.0           NaN            NaN              NaN   \n",
       "2         13095  2987.0           NaN            NaN              NaN   \n",
       "3         13096  2987.0           NaN            NaN          19914.0   \n",
       "4         13097  2987.0           NaN            NaN              NaN   \n",
       "...         ...     ...           ...            ...              ...   \n",
       "23724  43278316  5111.0           NaN            NaN              NaN   \n",
       "23725  43280399  1328.0           NaN            NaN              NaN   \n",
       "23726  43280552  2390.0           NaN            NaN              NaN   \n",
       "23727  43281112  2854.0           NaN            NaN              NaN   \n",
       "23728  43286057   996.0           NaN            NaN              NaN   \n",
       "\n",
       "      cleaning_fee  guests_included extra_people  \n",
       "0           3319.0                1          0.0  \n",
       "1              NaN                1          0.0  \n",
       "2              NaN                1          0.0  \n",
       "3           1328.0                1          0.0  \n",
       "4              NaN                1        996.0  \n",
       "...            ...              ...          ...  \n",
       "23724          NaN                1          0.0  \n",
       "23725          NaN                1          0.0  \n",
       "23726          NaN                1          0.0  \n",
       "23727          NaN                1          0.0  \n",
       "23728          NaN                1          0.0  \n",
       "\n",
       "[23729 rows x 8 columns]"
      ]
     },
     "execution_count": 287,
     "metadata": {},
     "output_type": "execute_result"
    }
   ],
   "source": [
    "precios"
   ]
  },
  {
   "cell_type": "code",
   "execution_count": 288,
   "metadata": {},
   "outputs": [],
   "source": [
    "# precios = listings[columnas_precio]\n",
    "\n",
    "# nuevos_precios = precios['price'].str.replace('$','').str.replace(',','').astype('float')\n",
    "# precios.iloc[:,1] = nuevos_precios\n",
    "\n",
    "# precios['weekly_price'] = precios['weekly_price'].str.replace('$','').str.replace(',','').astype('float')\n",
    "# precios['weekly_price'] = precios['weekly_price'].astype('float')\n",
    "\n",
    "# precios['monthly_price'] = precios['monthly_price'].str.replace('$','').str.replace(',','').astype('float')\n",
    "# precios['monthly_price'] = precios['monthly_price'].astype('float')\n",
    "\n",
    "# precios.loc[:,'security_deposit'] = precios['security_deposit'].str.replace('$','').str.replace(',','').astype('float')\n",
    "columna = 'extra_people'\n",
    "# precios.loc[:, columna ] = precios[columna].str.replace('$','').str.replace(',','').astype('float')\n",
    "# precios.iloc[:,1:3][precios['weekly_price'] > 0]"
   ]
  },
  {
   "cell_type": "code",
   "execution_count": 88,
   "metadata": {},
   "outputs": [
    {
     "data": {
      "text/plain": [
       "23729"
      ]
     },
     "execution_count": 88,
     "metadata": {},
     "output_type": "execute_result"
    }
   ],
   "source": [
    "info1.to_sql(name=\"info1\", con=cnx, if_exists=\"replace\")\n",
    "info2.to_sql(name='info2', con = cnx, if_exists=\"replace\")\n",
    "location.to_sql(name='location', con = cnx, if_exists=\"replace\")\n",
    "datos_propiedad.to_sql(name='datos_propiedad', con=cnx, if_exists='replace')\n",
    "precios.to_sql(name='precios', con=cnx, if_exists='replace')\n",
    "disponibilidad.to_sql(name=\"disponibilidad\", con=cnx, if_exists='replace')\n",
    "reviews_info.to_sql(name='reviews_info', con=cnx, if_exists='replace')\n",
    "\n"
   ]
  },
  {
   "cell_type": "markdown",
   "metadata": {},
   "source": [
    "Finalmente Guardamos la tabla listings"
   ]
  },
  {
   "cell_type": "code",
   "execution_count": 89,
   "metadata": {},
   "outputs": [
    {
     "data": {
      "text/plain": [
       "23729"
      ]
     },
     "execution_count": 89,
     "metadata": {},
     "output_type": "execute_result"
    }
   ],
   "source": [
    "listings_filtered.to_sql(name=\"listings\", con=cnx, if_exists='replace')"
   ]
  },
  {
   "cell_type": "code",
   "execution_count": 73,
   "metadata": {},
   "outputs": [
    {
     "name": "stdout",
     "output_type": "stream",
     "text": [
      "<class 'pandas.core.frame.DataFrame'>\n",
      "RangeIndex: 387099 entries, 0 to 387098\n",
      "Data columns (total 6 columns):\n",
      " #   Column         Non-Null Count   Dtype \n",
      "---  ------         --------------   ----- \n",
      " 0   listing_id     387099 non-null  int64 \n",
      " 1   id             387099 non-null  int64 \n",
      " 2   date           387099 non-null  object\n",
      " 3   reviewer_id    387099 non-null  int64 \n",
      " 4   reviewer_name  387099 non-null  object\n",
      " 5   comments       386923 non-null  object\n",
      "dtypes: int64(3), object(3)\n",
      "memory usage: 17.7+ MB\n"
     ]
    }
   ],
   "source": [
    "\n",
    "reviews = pd.read_csv('../datasets/reviews.csv')\n",
    "\n",
    "reviews.info()"
   ]
  },
  {
   "cell_type": "code",
   "execution_count": 74,
   "metadata": {},
   "outputs": [
    {
     "data": {
      "text/plain": [
       "387099"
      ]
     },
     "execution_count": 74,
     "metadata": {},
     "output_type": "execute_result"
    }
   ],
   "source": [
    "reviewrs = reviews[['reviewer_id', 'reviewer_name']]\n",
    "\n",
    "reviewrs.to_sql(name='reviewer', con=cnx, if_exists='replace')"
   ]
  },
  {
   "cell_type": "code",
   "execution_count": 76,
   "metadata": {},
   "outputs": [
    {
     "name": "stdout",
     "output_type": "stream",
     "text": [
      "<class 'pandas.core.frame.DataFrame'>\n",
      "RangeIndex: 387099 entries, 0 to 387098\n",
      "Data columns (total 5 columns):\n",
      " #   Column       Non-Null Count   Dtype \n",
      "---  ------       --------------   ----- \n",
      " 0   listing_id   387099 non-null  int64 \n",
      " 1   id           387099 non-null  int64 \n",
      " 2   date         387099 non-null  object\n",
      " 3   reviewer_id  387099 non-null  int64 \n",
      " 4   comments     386923 non-null  object\n",
      "dtypes: int64(3), object(2)\n",
      "memory usage: 14.8+ MB\n"
     ]
    }
   ],
   "source": [
    "reviews_filtered = reviews.drop(['reviewer_name'], axis= 1)\n",
    "\n",
    "reviews_filtered.info()"
   ]
  },
  {
   "cell_type": "code",
   "execution_count": 77,
   "metadata": {},
   "outputs": [
    {
     "data": {
      "text/plain": [
       "387099"
      ]
     },
     "execution_count": 77,
     "metadata": {},
     "output_type": "execute_result"
    }
   ],
   "source": [
    "reviews.to_sql(name='reviews', con=cnx, if_exists='replace')"
   ]
  },
  {
   "cell_type": "code",
   "execution_count": 7,
   "metadata": {},
   "outputs": [],
   "source": [
    "reviews.to_parquet('../datasets/reviews.parquet')"
   ]
  },
  {
   "cell_type": "code",
   "execution_count": null,
   "metadata": {},
   "outputs": [],
   "source": [
    "import nltk\n",
    "nltk.download('vader_lexicon')\n",
    "\n",
    "from nltk.sentiment import SentimentIntensityAnalyzer\n",
    "\n",
    "# Create an instance of the sentiment intensity analyzer\n",
    "sid = SentimentIntensityAnalyzer()\n",
    "\n",
    "# Sample reviews\n",
    "# comments = reviews.comments\n",
    "\n",
    "# Analyze the sentiment of each review\n",
    "for i, review in reviews.iterrows():\n",
    "    # print(review)\n",
    "    if i == 100:\n",
    "        break\n",
    "    try:\n",
    "        scores = sid.polarity_scores(review.comments)\n",
    "        compound = scores['compound']\n",
    "        # for key in sorted(scores):\n",
    "            # print(f\"{key}: {scores[key]}\", end=\" \")\n",
    "        # for key in sorted(scores):\n",
    "        \n",
    "        if compound > .4 and compound < .6:\n",
    "            print(compound, review.listing_id, review.reviewer_name, review.comments, \"\\n\", end=\" \")\n",
    "    except:\n",
    "        pass\n",
    "    \n",
    "# sid.polarity_scores(\"Excellent, genius, best in the world\")"
   ]
  },
  {
   "cell_type": "code",
   "execution_count": 6,
   "metadata": {},
   "outputs": [
    {
     "data": {
      "text/html": [
       "<div>\n",
       "<style scoped>\n",
       "    .dataframe tbody tr th:only-of-type {\n",
       "        vertical-align: middle;\n",
       "    }\n",
       "\n",
       "    .dataframe tbody tr th {\n",
       "        vertical-align: top;\n",
       "    }\n",
       "\n",
       "    .dataframe thead th {\n",
       "        text-align: right;\n",
       "    }\n",
       "</style>\n",
       "<table border=\"1\" class=\"dataframe\">\n",
       "  <thead>\n",
       "    <tr style=\"text-align: right;\">\n",
       "      <th></th>\n",
       "      <th>listing_id</th>\n",
       "      <th>id</th>\n",
       "      <th>date</th>\n",
       "      <th>reviewer_id</th>\n",
       "      <th>reviewer_name</th>\n",
       "      <th>comments</th>\n",
       "    </tr>\n",
       "  </thead>\n",
       "  <tbody>\n",
       "    <tr>\n",
       "      <th>0</th>\n",
       "      <td>11508</td>\n",
       "      <td>1615861</td>\n",
       "      <td>2012-07-02</td>\n",
       "      <td>877808</td>\n",
       "      <td>Charlie</td>\n",
       "      <td>Amazing place!\\r\\n\\r\\nLocation: short walk to ...</td>\n",
       "    </tr>\n",
       "    <tr>\n",
       "      <th>1</th>\n",
       "      <td>11508</td>\n",
       "      <td>3157005</td>\n",
       "      <td>2012-12-26</td>\n",
       "      <td>656077</td>\n",
       "      <td>Shaily</td>\n",
       "      <td>Really enjoyed Candela's recommendations and q...</td>\n",
       "    </tr>\n",
       "    <tr>\n",
       "      <th>2</th>\n",
       "      <td>11508</td>\n",
       "      <td>3281011</td>\n",
       "      <td>2013-01-05</td>\n",
       "      <td>2835998</td>\n",
       "      <td>Michiel</td>\n",
       "      <td>Candela and her colleague were very attentive ...</td>\n",
       "    </tr>\n",
       "    <tr>\n",
       "      <th>3</th>\n",
       "      <td>11508</td>\n",
       "      <td>6050019</td>\n",
       "      <td>2013-07-28</td>\n",
       "      <td>4600436</td>\n",
       "      <td>Tara</td>\n",
       "      <td>The apartment was in a beautiful, modern build...</td>\n",
       "    </tr>\n",
       "    <tr>\n",
       "      <th>4</th>\n",
       "      <td>11508</td>\n",
       "      <td>9328455</td>\n",
       "      <td>2013-12-22</td>\n",
       "      <td>3130017</td>\n",
       "      <td>Simon</td>\n",
       "      <td>My stay at Candela's apartment was very enjoya...</td>\n",
       "    </tr>\n",
       "    <tr>\n",
       "      <th>...</th>\n",
       "      <td>...</td>\n",
       "      <td>...</td>\n",
       "      <td>...</td>\n",
       "      <td>...</td>\n",
       "      <td>...</td>\n",
       "      <td>...</td>\n",
       "    </tr>\n",
       "    <tr>\n",
       "      <th>387094</th>\n",
       "      <td>42974156</td>\n",
       "      <td>621670219</td>\n",
       "      <td>2020-04-03</td>\n",
       "      <td>270233993</td>\n",
       "      <td>Carolina</td>\n",
       "      <td>Muchas gracias Mariano por la amabilidad en to...</td>\n",
       "    </tr>\n",
       "    <tr>\n",
       "      <th>387095</th>\n",
       "      <td>42975917</td>\n",
       "      <td>620648461</td>\n",
       "      <td>2020-03-23</td>\n",
       "      <td>342208450</td>\n",
       "      <td>Guillermo</td>\n",
       "      <td>Me encanto el lugar. Impecable, moderno, y ate...</td>\n",
       "    </tr>\n",
       "    <tr>\n",
       "      <th>387096</th>\n",
       "      <td>42990298</td>\n",
       "      <td>622364643</td>\n",
       "      <td>2020-04-13</td>\n",
       "      <td>342811096</td>\n",
       "      <td>Heber</td>\n",
       "      <td>Lugar muy bien ubicado y tal cual las fotos, c...</td>\n",
       "    </tr>\n",
       "    <tr>\n",
       "      <th>387097</th>\n",
       "      <td>43080350</td>\n",
       "      <td>622571105</td>\n",
       "      <td>2020-04-17</td>\n",
       "      <td>184553721</td>\n",
       "      <td>Elisabeth</td>\n",
       "      <td>The apartment is a beautiful, small and good l...</td>\n",
       "    </tr>\n",
       "    <tr>\n",
       "      <th>387098</th>\n",
       "      <td>43084875</td>\n",
       "      <td>621736142</td>\n",
       "      <td>2020-04-04</td>\n",
       "      <td>342962187</td>\n",
       "      <td>Carlos</td>\n",
       "      <td>impecable</td>\n",
       "    </tr>\n",
       "  </tbody>\n",
       "</table>\n",
       "<p>387099 rows × 6 columns</p>\n",
       "</div>"
      ],
      "text/plain": [
       "        listing_id         id        date  reviewer_id reviewer_name  \\\n",
       "0            11508    1615861  2012-07-02       877808       Charlie   \n",
       "1            11508    3157005  2012-12-26       656077        Shaily   \n",
       "2            11508    3281011  2013-01-05      2835998       Michiel   \n",
       "3            11508    6050019  2013-07-28      4600436          Tara   \n",
       "4            11508    9328455  2013-12-22      3130017         Simon   \n",
       "...            ...        ...         ...          ...           ...   \n",
       "387094    42974156  621670219  2020-04-03    270233993      Carolina   \n",
       "387095    42975917  620648461  2020-03-23    342208450     Guillermo   \n",
       "387096    42990298  622364643  2020-04-13    342811096         Heber   \n",
       "387097    43080350  622571105  2020-04-17    184553721     Elisabeth   \n",
       "387098    43084875  621736142  2020-04-04    342962187        Carlos   \n",
       "\n",
       "                                                 comments  \n",
       "0       Amazing place!\\r\\n\\r\\nLocation: short walk to ...  \n",
       "1       Really enjoyed Candela's recommendations and q...  \n",
       "2       Candela and her colleague were very attentive ...  \n",
       "3       The apartment was in a beautiful, modern build...  \n",
       "4       My stay at Candela's apartment was very enjoya...  \n",
       "...                                                   ...  \n",
       "387094  Muchas gracias Mariano por la amabilidad en to...  \n",
       "387095  Me encanto el lugar. Impecable, moderno, y ate...  \n",
       "387096  Lugar muy bien ubicado y tal cual las fotos, c...  \n",
       "387097  The apartment is a beautiful, small and good l...  \n",
       "387098                                          impecable  \n",
       "\n",
       "[387099 rows x 6 columns]"
      ]
     },
     "execution_count": 6,
     "metadata": {},
     "output_type": "execute_result"
    }
   ],
   "source": [
    "# reviews = pd.read_csv('../datasets/reviews.csv')\n",
    "reviews"
   ]
  },
  {
   "cell_type": "code",
   "execution_count": 52,
   "metadata": {},
   "outputs": [
    {
     "data": {
      "text/plain": [
       "0         95.0\n",
       "1         95.0\n",
       "2        100.0\n",
       "3          NaN\n",
       "4         99.0\n",
       "         ...  \n",
       "23724      NaN\n",
       "23725      NaN\n",
       "23726      NaN\n",
       "23727      NaN\n",
       "23728      NaN\n",
       "Name: review_scores_rating, Length: 23729, dtype: float64"
      ]
     },
     "execution_count": 52,
     "metadata": {},
     "output_type": "execute_result"
    }
   ],
   "source": [
    "listings.iloc[:,-20]"
   ]
  },
  {
   "cell_type": "code",
   "execution_count": null,
   "metadata": {},
   "outputs": [],
   "source": [
    "import pandas as pd\n",
    "\n",
    "pd.Da"
   ]
  }
 ],
 "metadata": {
  "kernelspec": {
   "display_name": ".venv",
   "language": "python",
   "name": "python3"
  },
  "language_info": {
   "codemirror_mode": {
    "name": "ipython",
    "version": 3
   },
   "file_extension": ".py",
   "mimetype": "text/x-python",
   "name": "python",
   "nbconvert_exporter": "python",
   "pygments_lexer": "ipython3",
   "version": "3.12.1"
  }
 },
 "nbformat": 4,
 "nbformat_minor": 2
}
